{
  "nbformat": 4,
  "nbformat_minor": 0,
  "metadata": {
    "accelerator": "TPU",
    "colab": {
      "name": "3D_Image_Classification_with_Modified_UNET_Architecture",
      "provenance": [],
      "collapsed_sections": [],
      "include_colab_link": true
    },
    "kernelspec": {
      "display_name": "Python 3",
      "name": "python3"
    }
  },
  "cells": [
    {
      "cell_type": "markdown",
      "metadata": {
        "id": "view-in-github",
        "colab_type": "text"
      },
      "source": [
        "<a href=\"https://colab.research.google.com/github/kenanmorani/COV19D/blob/main/3D_Image_Classification_with_Modified_UNET_Architecture.ipynb\" target=\"_parent\"><img src=\"https://colab.research.google.com/assets/colab-badge.svg\" alt=\"Open In Colab\"/></a>"
      ]
    },
    {
      "cell_type": "code",
      "metadata": {
        "id": "9gbueYWaaaCP"
      },
      "source": [
        "import os, glob\n",
        "import numpy as np\n",
        "import matplotlib.pyplot as plt\n",
        "import cv2\n",
        "import nibabel as nib\n",
        "\n",
        "import tensorflow as tf\n",
        "from tensorflow.keras.preprocessing.image import ImageDataGenerator \n",
        "from tensorflow import keras\n",
        "from keras.models import load_model\n",
        "from keras import backend as K\n",
        "import seaborn as sns\n",
        "from keras.applications.vgg16 import VGG16"
      ],
      "execution_count": 2,
      "outputs": []
    },
    {
      "cell_type": "code",
      "metadata": {
        "colab": {
          "base_uri": "https://localhost:8080/"
        },
        "id": "nSaBo1VTb2JM",
        "outputId": "956fb01e-04f9-4a53-fb1e-8f9415b74e3b"
      },
      "source": [
        "from google.colab import drive\n",
        "drive.mount('/content/gdrive', force_remount=True)"
      ],
      "execution_count": 19,
      "outputs": [
        {
          "output_type": "stream",
          "name": "stdout",
          "text": [
            "Mounted at /content/gdrive\n"
          ]
        }
      ]
    },
    {
      "cell_type": "markdown",
      "metadata": {
        "id": "_TBIfGM6bMRS"
      },
      "source": [
        "# Organizing the training and validation sets of images using ImageDataGenerator"
      ]
    },
    {
      "cell_type": "code",
      "metadata": {
        "id": "oJ_8yhFEmf26"
      },
      "source": [
        "in_h = 224\n",
        "in_w = 224\n",
        "\n",
        "batch_size = 32"
      ],
      "execution_count": 4,
      "outputs": []
    },
    {
      "cell_type": "code",
      "metadata": {
        "colab": {
          "base_uri": "https://localhost:8080/"
        },
        "id": "B-d_Cy2XaeOV",
        "outputId": "bda55f78-7ef1-4a8e-c3f4-d71f33ce8a2b"
      },
      "source": [
        "train_datagen = None\n",
        "train_generator = None\n",
        "\n",
        "train_datagen = ImageDataGenerator(rescale=1./255, \n",
        "                                   horizontal_flip= True, vertical_flip=True)\n",
        "train_generator = train_datagen.flow_from_directory(\n",
        "        '/content/gdrive/MyDrive/Covid_data/Training Set/1-100',  \n",
        "        target_size=(in_h, in_w),  \n",
        "        batch_size=batch_size,\n",
        "        color_mode=\"grayscale\",\n",
        "        classes = ['covid','non-covid'],\n",
        "        class_mode='binary')"
      ],
      "execution_count": 5,
      "outputs": [
        {
          "output_type": "stream",
          "name": "stdout",
          "text": [
            "Found 36592 images belonging to 2 classes.\n"
          ]
        }
      ]
    },
    {
      "cell_type": "code",
      "metadata": {
        "id": "zWqjyzFHbfKV",
        "colab": {
          "base_uri": "https://localhost:8080/"
        },
        "outputId": "59fc21af-e89b-416b-c2aa-bbd214aa626f"
      },
      "source": [
        "val_datagen = ImageDataGenerator(rescale=1/255)\n",
        "val_generator = val_datagen.flow_from_directory(\n",
        "        '/content/gdrive/MyDrive/Covid_data/Validation Set/1-100',  \n",
        "        target_size=(in_h, in_w),  \n",
        "        batch_size=batch_size,\n",
        "        color_mode=\"grayscale\",\n",
        "        classes = ['covid','non-covid'],\n",
        "        class_mode='binary')"
      ],
      "execution_count": 6,
      "outputs": [
        {
          "output_type": "stream",
          "name": "stdout",
          "text": [
            "Found 15598 images belonging to 2 classes.\n"
          ]
        }
      ]
    },
    {
      "cell_type": "markdown",
      "metadata": {
        "id": "S_EyfV975d_x"
      },
      "source": [
        "# Modified UNET#"
      ]
    },
    {
      "cell_type": "code",
      "metadata": {
        "id": "EzEYS12h5mz4"
      },
      "source": [
        "import keras\n",
        "from tensorflow.keras import regularizers\n",
        "from keras.regularizers import l2\n",
        "\n",
        "#Building 2D-UNET model\n",
        "def unet(n_levels, initial_features=32, n_blocks=2, kernel_size=3, pooling_size=2, in_channels=1, out_channels=1):\n",
        "    inputs = keras.layers.Input(shape=(in_h, in_w, in_channels))\n",
        "    x = inputs\n",
        "    \n",
        "    convpars = dict(kernel_size=kernel_size, activation='relu', padding='same')\n",
        "    #downstream\n",
        "    skips = {}\n",
        "    for level in range(n_levels):\n",
        "        for _ in range(n_blocks):\n",
        "            x = keras.layers.Conv2D(initial_features * 2 ** level, kernel_regularizer=l2(0.01), bias_regularizer=l2(0.01), **convpars)(x)\n",
        "            #x = keras.layers.BatchNormalization()(x)\n",
        "        if level < n_levels - 1:\n",
        "            skips[level] = x\n",
        "            x = keras.layers.MaxPool2D(pooling_size)(x)\n",
        "            #x = keras.layers.BatchNormalization()(x)\n",
        "\n",
        "    #upstream\n",
        "    for level in reversed(range(n_levels-1)):\n",
        "        x = keras.layers.Conv2DTranspose(initial_features * 2 ** level, strides=pooling_size, \n",
        "                                         kernel_regularizer=l2(0.01),  **convpars)(x) \n",
        "                                         #bias_regularizer=l2(0.01),\n",
        "        x = keras.layers.Concatenate()([x, skips[level]])\n",
        "        for _ in range(n_blocks):\n",
        "            x = keras.layers.Conv2D(initial_features * 2 ** level, \n",
        "                                    kernel_regularizer=l2(0.01), **convpars)(x)\n",
        "                                    # bias_regularizer=l2(0.01),      \n",
        "    \n",
        "    # output\n",
        "    #activation = 'sigmoid' if out_channels == 1 else 'softmax'\n",
        "    #x = keras.layers.Conv2D(out_channels, kernel_size=3, activation=activation, padding='same')(x)\n",
        "    #x = keras.layers.BatchNormalization()(x)\n",
        "    x = keras.layers.Flatten()(x)\n",
        "    x = keras.layers.Dense(256, activation='relu')(x)\n",
        "    #x = keras.layers.BatchNormalization()(x)\n",
        "    x = keras.layers.Dropout(0.1)(x)\n",
        "    x = keras.layers.Dense(1, activation='sigmoid')(x)\n",
        "    \n",
        "    return keras.Model(inputs=[inputs], outputs=[x], name=f'UNET-L{n_levels}-F{initial_features}')"
      ],
      "execution_count": 7,
      "outputs": []
    },
    {
      "cell_type": "code",
      "metadata": {
        "id": "9Gwy6be1G-KY"
      },
      "source": [
        "model = unet(3)"
      ],
      "execution_count": 8,
      "outputs": []
    },
    {
      "cell_type": "code",
      "metadata": {
        "colab": {
          "base_uri": "https://localhost:8080/"
        },
        "id": "GWgIAZBxHUai",
        "outputId": "2f5e7e79-8e8f-442a-d51c-c9d3f1f4e266"
      },
      "source": [
        "model.summary()"
      ],
      "execution_count": 9,
      "outputs": [
        {
          "output_type": "stream",
          "name": "stdout",
          "text": [
            "Model: \"UNET-L3-F32\"\n",
            "__________________________________________________________________________________________________\n",
            "Layer (type)                    Output Shape         Param #     Connected to                     \n",
            "==================================================================================================\n",
            "input_1 (InputLayer)            [(None, 224, 224, 1) 0                                            \n",
            "__________________________________________________________________________________________________\n",
            "conv2d (Conv2D)                 (None, 224, 224, 32) 320         input_1[0][0]                    \n",
            "__________________________________________________________________________________________________\n",
            "conv2d_1 (Conv2D)               (None, 224, 224, 32) 9248        conv2d[0][0]                     \n",
            "__________________________________________________________________________________________________\n",
            "max_pooling2d (MaxPooling2D)    (None, 112, 112, 32) 0           conv2d_1[0][0]                   \n",
            "__________________________________________________________________________________________________\n",
            "conv2d_2 (Conv2D)               (None, 112, 112, 64) 18496       max_pooling2d[0][0]              \n",
            "__________________________________________________________________________________________________\n",
            "conv2d_3 (Conv2D)               (None, 112, 112, 64) 36928       conv2d_2[0][0]                   \n",
            "__________________________________________________________________________________________________\n",
            "max_pooling2d_1 (MaxPooling2D)  (None, 56, 56, 64)   0           conv2d_3[0][0]                   \n",
            "__________________________________________________________________________________________________\n",
            "conv2d_4 (Conv2D)               (None, 56, 56, 128)  73856       max_pooling2d_1[0][0]            \n",
            "__________________________________________________________________________________________________\n",
            "conv2d_5 (Conv2D)               (None, 56, 56, 128)  147584      conv2d_4[0][0]                   \n",
            "__________________________________________________________________________________________________\n",
            "conv2d_transpose (Conv2DTranspo (None, 112, 112, 64) 73792       conv2d_5[0][0]                   \n",
            "__________________________________________________________________________________________________\n",
            "concatenate (Concatenate)       (None, 112, 112, 128 0           conv2d_transpose[0][0]           \n",
            "                                                                 conv2d_3[0][0]                   \n",
            "__________________________________________________________________________________________________\n",
            "conv2d_6 (Conv2D)               (None, 112, 112, 64) 73792       concatenate[0][0]                \n",
            "__________________________________________________________________________________________________\n",
            "conv2d_7 (Conv2D)               (None, 112, 112, 64) 36928       conv2d_6[0][0]                   \n",
            "__________________________________________________________________________________________________\n",
            "conv2d_transpose_1 (Conv2DTrans (None, 224, 224, 32) 18464       conv2d_7[0][0]                   \n",
            "__________________________________________________________________________________________________\n",
            "concatenate_1 (Concatenate)     (None, 224, 224, 64) 0           conv2d_transpose_1[0][0]         \n",
            "                                                                 conv2d_1[0][0]                   \n",
            "__________________________________________________________________________________________________\n",
            "conv2d_8 (Conv2D)               (None, 224, 224, 32) 18464       concatenate_1[0][0]              \n",
            "__________________________________________________________________________________________________\n",
            "conv2d_9 (Conv2D)               (None, 224, 224, 32) 9248        conv2d_8[0][0]                   \n",
            "__________________________________________________________________________________________________\n",
            "flatten (Flatten)               (None, 1605632)      0           conv2d_9[0][0]                   \n",
            "__________________________________________________________________________________________________\n",
            "dense (Dense)                   (None, 256)          411042048   flatten[0][0]                    \n",
            "__________________________________________________________________________________________________\n",
            "dropout (Dropout)               (None, 256)          0           dense[0][0]                      \n",
            "__________________________________________________________________________________________________\n",
            "dense_1 (Dense)                 (None, 1)            257         dropout[0][0]                    \n",
            "==================================================================================================\n",
            "Total params: 411,559,425\n",
            "Trainable params: 411,559,425\n",
            "Non-trainable params: 0\n",
            "__________________________________________________________________________________________________\n"
          ]
        }
      ]
    },
    {
      "cell_type": "markdown",
      "metadata": {
        "id": "eWr7NG8iN8xU"
      },
      "source": [
        "# Modified UNET\n"
      ]
    },
    {
      "cell_type": "code",
      "metadata": {
        "id": "ZN14ARSyOE69"
      },
      "source": [
        "model.compile(loss='binary_crossentropy',\n",
        "              optimizer = 'Adam',\n",
        "              metrics=[tf.keras.metrics.Precision(),tf.keras.metrics.Recall(),'accuracy'])"
      ],
      "execution_count": 10,
      "outputs": []
    },
    {
      "cell_type": "code",
      "metadata": {
        "colab": {
          "base_uri": "https://localhost:8080/"
        },
        "id": "aywZx8RMOl1J",
        "outputId": "11c6d97e-e3f9-4895-8490-118bd35ab099"
      },
      "source": [
        "from sklearn.utils import class_weight \n",
        "from collections import Counter\n",
        "\n",
        "\n",
        "counter = Counter(train_generator.classes)                          \n",
        "max_val = float(max(counter.values()))       \n",
        "class_weights = {class_id : max_val/num_images for class_id, num_images in counter.items()}  \n",
        "class_weights\n"
      ],
      "execution_count": 22,
      "outputs": [
        {
          "output_type": "execute_result",
          "data": {
            "text/plain": [
              "{0: 1.0860840316971667, 1: 1.0}"
            ]
          },
          "metadata": {},
          "execution_count": 22
        }
      ]
    },
    {
      "cell_type": "code",
      "metadata": {
        "colab": {
          "base_uri": "https://localhost:8080/"
        },
        "id": "KjQ2n0J7Kk9b",
        "outputId": "0370ad6b-c300-4918-a538-3827bafe1c8b"
      },
      "source": [
        "steps_per_epoch_train = len(train_generator) // batch_size\n",
        "steps_per_epoch_train"
      ],
      "execution_count": 11,
      "outputs": [
        {
          "output_type": "execute_result",
          "data": {
            "text/plain": [
              "35"
            ]
          },
          "metadata": {},
          "execution_count": 11
        }
      ]
    },
    {
      "cell_type": "code",
      "metadata": {
        "colab": {
          "base_uri": "https://localhost:8080/"
        },
        "id": "4IrYthR9MpUT",
        "outputId": "b8984255-aad6-40b4-b946-e5b27b038f59"
      },
      "source": [
        "steps_per_epoch_validation = len(val_generator) // batch_size\n",
        "steps_per_epoch_validation"
      ],
      "execution_count": 12,
      "outputs": [
        {
          "output_type": "execute_result",
          "data": {
            "text/plain": [
              "15"
            ]
          },
          "metadata": {},
          "execution_count": 12
        }
      ]
    },
    {
      "cell_type": "code",
      "metadata": {
        "colab": {
          "base_uri": "https://localhost:8080/",
          "height": 853
        },
        "id": "N9RpGqH-J8Gu",
        "outputId": "7eb5f039-18de-40db-f641-87ba0a5d6090"
      },
      "source": [
        "n_epochs = 11\n",
        "history=model.fit(train_generator,\n",
        "                  #class_weight=class_weights,\n",
        "                  steps_per_epoch= steps_per_epoch_train,\n",
        "                  validation_data=val_generator,\n",
        "                  validation_steps=steps_per_epoch_validation,\n",
        "                  #callbacks=[early_stopping_cb],\n",
        "                  verbose=2,\n",
        "                  epochs=n_epochs)\n",
        "\n",
        "model.save('/content/gdrive/MyDrive/Covid_data/Saved-model/model1.h5')"
      ],
      "execution_count": 13,
      "outputs": [
        {
          "output_type": "stream",
          "name": "stdout",
          "text": [
            "Epoch 1/11\n",
            "35/35 - 1338s - loss: 6.6887 - precision: 0.5315 - recall: 0.6114 - accuracy: 0.5205 - val_loss: 3.0961 - val_precision: 0.6029 - val_recall: 0.9931 - val_accuracy: 0.6021\n",
            "Epoch 2/11\n",
            "35/35 - 1330s - loss: 2.4730 - precision: 0.6667 - recall: 0.5958 - accuracy: 0.6402 - val_loss: 2.0836 - val_precision: 0.6247 - val_recall: 0.9336 - val_accuracy: 0.6458\n",
            "Epoch 3/11\n",
            "35/35 - 1319s - loss: 1.6982 - precision: 0.8642 - recall: 0.7428 - accuracy: 0.8027 - val_loss: 2.0213 - val_precision: 0.6923 - val_recall: 0.6585 - val_accuracy: 0.6208\n",
            "Epoch 4/11\n",
            "35/35 - 1322s - loss: 1.3232 - precision: 0.9078 - recall: 0.8956 - accuracy: 0.8964 - val_loss: 1.9021 - val_precision: 0.7232 - val_recall: 0.6877 - val_accuracy: 0.6583\n",
            "Epoch 5/11\n",
            "35/35 - 1313s - loss: 1.0824 - precision: 0.9574 - recall: 0.9477 - accuracy: 0.9500 - val_loss: 1.8807 - val_precision: 0.7321 - val_recall: 0.5688 - val_accuracy: 0.6417\n",
            "Epoch 6/11\n",
            "35/35 - 1311s - loss: 0.9377 - precision: 0.9709 - recall: 0.9621 - accuracy: 0.9670 - val_loss: 1.8625 - val_precision: 0.7198 - val_recall: 0.6491 - val_accuracy: 0.6417\n",
            "Epoch 7/11\n",
            "35/35 - 1322s - loss: 0.8217 - precision: 0.9825 - recall: 0.9757 - accuracy: 0.9786 - val_loss: 1.7324 - val_precision: 0.6957 - val_recall: 0.6718 - val_accuracy: 0.6604\n",
            "Epoch 8/11\n",
            "35/35 - 1318s - loss: 0.7380 - precision: 0.9844 - recall: 0.9827 - accuracy: 0.9830 - val_loss: 1.8925 - val_precision: 0.7259 - val_recall: 0.6975 - val_accuracy: 0.6687\n",
            "Epoch 9/11\n",
            "35/35 - 1318s - loss: 0.6813 - precision: 0.9882 - recall: 0.9783 - accuracy: 0.9821 - val_loss: 1.4855 - val_precision: 0.7828 - val_recall: 0.6725 - val_accuracy: 0.6958\n",
            "Epoch 10/11\n",
            "35/35 - 1311s - loss: 0.6186 - precision: 0.9913 - recall: 0.9845 - accuracy: 0.9875 - val_loss: 1.8961 - val_precision: 0.7799 - val_recall: 0.6966 - val_accuracy: 0.6979\n",
            "Epoch 11/11\n",
            "35/35 - 1321s - loss: 0.5757 - precision: 0.9899 - recall: 0.9866 - accuracy: 0.9875 - val_loss: 1.9907 - val_precision: 0.7368 - val_recall: 0.6926 - val_accuracy: 0.6729\n"
          ]
        },
        {
          "output_type": "error",
          "ename": "OSError",
          "evalue": "ignored",
          "traceback": [
            "\u001b[0;31m---------------------------------------------------------------------------\u001b[0m",
            "\u001b[0;31mOSError\u001b[0m                                   Traceback (most recent call last)",
            "\u001b[0;32m<ipython-input-13-104724a640dd>\u001b[0m in \u001b[0;36m<module>\u001b[0;34m()\u001b[0m\n\u001b[1;32m      9\u001b[0m                   epochs=n_epochs)\n\u001b[1;32m     10\u001b[0m \u001b[0;34m\u001b[0m\u001b[0m\n\u001b[0;32m---> 11\u001b[0;31m \u001b[0mmodel\u001b[0m\u001b[0;34m.\u001b[0m\u001b[0msave\u001b[0m\u001b[0;34m(\u001b[0m\u001b[0;34m'/content/gdrive/MyDrive/Covid_data/Saved-model/model1.h5'\u001b[0m\u001b[0;34m)\u001b[0m\u001b[0;34m\u001b[0m\u001b[0;34m\u001b[0m\u001b[0m\n\u001b[0m",
            "\u001b[0;32m/usr/local/lib/python3.7/dist-packages/keras/engine/training.py\u001b[0m in \u001b[0;36msave\u001b[0;34m(self, filepath, overwrite, include_optimizer, save_format, signatures, options, save_traces)\u001b[0m\n\u001b[1;32m   2144\u001b[0m     \u001b[0;31m# pylint: enable=line-too-long\u001b[0m\u001b[0;34m\u001b[0m\u001b[0;34m\u001b[0m\u001b[0;34m\u001b[0m\u001b[0m\n\u001b[1;32m   2145\u001b[0m     save.save_model(self, filepath, overwrite, include_optimizer, save_format,\n\u001b[0;32m-> 2146\u001b[0;31m                     signatures, options, save_traces)\n\u001b[0m\u001b[1;32m   2147\u001b[0m \u001b[0;34m\u001b[0m\u001b[0m\n\u001b[1;32m   2148\u001b[0m   def save_weights(self,\n",
            "\u001b[0;32m/usr/local/lib/python3.7/dist-packages/keras/saving/save.py\u001b[0m in \u001b[0;36msave_model\u001b[0;34m(model, filepath, overwrite, include_optimizer, save_format, signatures, options, save_traces)\u001b[0m\n\u001b[1;32m    144\u001b[0m           'or using `save_weights`.')\n\u001b[1;32m    145\u001b[0m     hdf5_format.save_model_to_hdf5(\n\u001b[0;32m--> 146\u001b[0;31m         model, filepath, overwrite, include_optimizer)\n\u001b[0m\u001b[1;32m    147\u001b[0m   \u001b[0;32melse\u001b[0m\u001b[0;34m:\u001b[0m\u001b[0;34m\u001b[0m\u001b[0;34m\u001b[0m\u001b[0m\n\u001b[1;32m    148\u001b[0m     \u001b[0;32mwith\u001b[0m \u001b[0mgeneric_utils\u001b[0m\u001b[0;34m.\u001b[0m\u001b[0mSharedObjectSavingScope\u001b[0m\u001b[0;34m(\u001b[0m\u001b[0;34m)\u001b[0m\u001b[0;34m:\u001b[0m\u001b[0;34m\u001b[0m\u001b[0;34m\u001b[0m\u001b[0m\n",
            "\u001b[0;32m/usr/local/lib/python3.7/dist-packages/keras/saving/hdf5_format.py\u001b[0m in \u001b[0;36msave_model_to_hdf5\u001b[0;34m(model, filepath, overwrite, include_optimizer)\u001b[0m\n\u001b[1;32m    101\u001b[0m       \u001b[0mtf\u001b[0m\u001b[0;34m.\u001b[0m\u001b[0mio\u001b[0m\u001b[0;34m.\u001b[0m\u001b[0mgfile\u001b[0m\u001b[0;34m.\u001b[0m\u001b[0mmakedirs\u001b[0m\u001b[0;34m(\u001b[0m\u001b[0mdirpath\u001b[0m\u001b[0;34m)\u001b[0m\u001b[0;34m\u001b[0m\u001b[0;34m\u001b[0m\u001b[0m\n\u001b[1;32m    102\u001b[0m \u001b[0;34m\u001b[0m\u001b[0m\n\u001b[0;32m--> 103\u001b[0;31m     \u001b[0mf\u001b[0m \u001b[0;34m=\u001b[0m \u001b[0mh5py\u001b[0m\u001b[0;34m.\u001b[0m\u001b[0mFile\u001b[0m\u001b[0;34m(\u001b[0m\u001b[0mfilepath\u001b[0m\u001b[0;34m,\u001b[0m \u001b[0mmode\u001b[0m\u001b[0;34m=\u001b[0m\u001b[0;34m'w'\u001b[0m\u001b[0;34m)\u001b[0m\u001b[0;34m\u001b[0m\u001b[0;34m\u001b[0m\u001b[0m\n\u001b[0m\u001b[1;32m    104\u001b[0m     \u001b[0mopened_new_file\u001b[0m \u001b[0;34m=\u001b[0m \u001b[0;32mTrue\u001b[0m\u001b[0;34m\u001b[0m\u001b[0;34m\u001b[0m\u001b[0m\n\u001b[1;32m    105\u001b[0m   \u001b[0;32melse\u001b[0m\u001b[0;34m:\u001b[0m\u001b[0;34m\u001b[0m\u001b[0;34m\u001b[0m\u001b[0m\n",
            "\u001b[0;32m/usr/local/lib/python3.7/dist-packages/h5py/_hl/files.py\u001b[0m in \u001b[0;36m__init__\u001b[0;34m(self, name, mode, driver, libver, userblock_size, swmr, rdcc_nslots, rdcc_nbytes, rdcc_w0, track_order, fs_strategy, fs_persist, fs_threshold, **kwds)\u001b[0m\n\u001b[1;32m    425\u001b[0m                                fapl, fcpl=make_fcpl(track_order=track_order, fs_strategy=fs_strategy,\n\u001b[1;32m    426\u001b[0m                                fs_persist=fs_persist, fs_threshold=fs_threshold),\n\u001b[0;32m--> 427\u001b[0;31m                                swmr=swmr)\n\u001b[0m\u001b[1;32m    428\u001b[0m \u001b[0;34m\u001b[0m\u001b[0m\n\u001b[1;32m    429\u001b[0m             \u001b[0;32mif\u001b[0m \u001b[0misinstance\u001b[0m\u001b[0;34m(\u001b[0m\u001b[0mlibver\u001b[0m\u001b[0;34m,\u001b[0m \u001b[0mtuple\u001b[0m\u001b[0;34m)\u001b[0m\u001b[0;34m:\u001b[0m\u001b[0;34m\u001b[0m\u001b[0;34m\u001b[0m\u001b[0m\n",
            "\u001b[0;32m/usr/local/lib/python3.7/dist-packages/h5py/_hl/files.py\u001b[0m in \u001b[0;36mmake_fid\u001b[0;34m(name, mode, userblock_size, fapl, fcpl, swmr)\u001b[0m\n\u001b[1;32m    194\u001b[0m         \u001b[0mfid\u001b[0m \u001b[0;34m=\u001b[0m \u001b[0mh5f\u001b[0m\u001b[0;34m.\u001b[0m\u001b[0mcreate\u001b[0m\u001b[0;34m(\u001b[0m\u001b[0mname\u001b[0m\u001b[0;34m,\u001b[0m \u001b[0mh5f\u001b[0m\u001b[0;34m.\u001b[0m\u001b[0mACC_EXCL\u001b[0m\u001b[0;34m,\u001b[0m \u001b[0mfapl\u001b[0m\u001b[0;34m=\u001b[0m\u001b[0mfapl\u001b[0m\u001b[0;34m,\u001b[0m \u001b[0mfcpl\u001b[0m\u001b[0;34m=\u001b[0m\u001b[0mfcpl\u001b[0m\u001b[0;34m)\u001b[0m\u001b[0;34m\u001b[0m\u001b[0;34m\u001b[0m\u001b[0m\n\u001b[1;32m    195\u001b[0m     \u001b[0;32melif\u001b[0m \u001b[0mmode\u001b[0m \u001b[0;34m==\u001b[0m \u001b[0;34m'w'\u001b[0m\u001b[0;34m:\u001b[0m\u001b[0;34m\u001b[0m\u001b[0;34m\u001b[0m\u001b[0m\n\u001b[0;32m--> 196\u001b[0;31m         \u001b[0mfid\u001b[0m \u001b[0;34m=\u001b[0m \u001b[0mh5f\u001b[0m\u001b[0;34m.\u001b[0m\u001b[0mcreate\u001b[0m\u001b[0;34m(\u001b[0m\u001b[0mname\u001b[0m\u001b[0;34m,\u001b[0m \u001b[0mh5f\u001b[0m\u001b[0;34m.\u001b[0m\u001b[0mACC_TRUNC\u001b[0m\u001b[0;34m,\u001b[0m \u001b[0mfapl\u001b[0m\u001b[0;34m=\u001b[0m\u001b[0mfapl\u001b[0m\u001b[0;34m,\u001b[0m \u001b[0mfcpl\u001b[0m\u001b[0;34m=\u001b[0m\u001b[0mfcpl\u001b[0m\u001b[0;34m)\u001b[0m\u001b[0;34m\u001b[0m\u001b[0;34m\u001b[0m\u001b[0m\n\u001b[0m\u001b[1;32m    197\u001b[0m     \u001b[0;32melif\u001b[0m \u001b[0mmode\u001b[0m \u001b[0;34m==\u001b[0m \u001b[0;34m'a'\u001b[0m\u001b[0;34m:\u001b[0m\u001b[0;34m\u001b[0m\u001b[0;34m\u001b[0m\u001b[0m\n\u001b[1;32m    198\u001b[0m         \u001b[0;31m# Open in append mode (read/write).\u001b[0m\u001b[0;34m\u001b[0m\u001b[0;34m\u001b[0m\u001b[0;34m\u001b[0m\u001b[0m\n",
            "\u001b[0;32mh5py/_objects.pyx\u001b[0m in \u001b[0;36mh5py._objects.with_phil.wrapper\u001b[0;34m()\u001b[0m\n",
            "\u001b[0;32mh5py/_objects.pyx\u001b[0m in \u001b[0;36mh5py._objects.with_phil.wrapper\u001b[0;34m()\u001b[0m\n",
            "\u001b[0;32mh5py/h5f.pyx\u001b[0m in \u001b[0;36mh5py.h5f.create\u001b[0;34m()\u001b[0m\n",
            "\u001b[0;31mOSError\u001b[0m: Unable to create file (unable to open file: name = '/content/gdrive/MyDrive/Covid_data/Saved-model/model1.h5', errno = 20, error message = 'Not a directory', flags = 13, o_flags = 242)"
          ]
        }
      ]
    },
    {
      "cell_type": "code",
      "metadata": {
        "id": "H5GRCiXhvZKq"
      },
      "source": [
        "model.save('/content/gdrive/MyDrive/Covid_data/model1.h5')"
      ],
      "execution_count": 23,
      "outputs": []
    },
    {
      "cell_type": "code",
      "metadata": {
        "colab": {
          "base_uri": "https://localhost:8080/"
        },
        "id": "4dAZMHbTxP5u",
        "outputId": "ac8ff419-031f-44ac-97ac-6ad6a98197a2"
      },
      "source": [
        "Train_accuracy = history.history['accuracy']\n",
        "print(np.mean(Train_accuracy))"
      ],
      "execution_count": 27,
      "outputs": [
        {
          "output_type": "stream",
          "name": "stdout",
          "text": [
            "0.8814123435453936\n"
          ]
        }
      ]
    },
    {
      "cell_type": "code",
      "metadata": {
        "colab": {
          "base_uri": "https://localhost:8080/"
        },
        "id": "adaBwJKKx3Om",
        "outputId": "4b26ffb9-131c-4156-fab8-6db6b5892142"
      },
      "source": [
        "val_accuracy = history.history['val_accuracy']\n",
        "print(np.mean(val_accuracy))"
      ],
      "execution_count": 25,
      "outputs": [
        {
          "output_type": "stream",
          "name": "stdout",
          "text": [
            "0.6551136320287531\n"
          ]
        }
      ]
    },
    {
      "cell_type": "code",
      "metadata": {
        "colab": {
          "base_uri": "https://localhost:8080/",
          "height": 421
        },
        "id": "KKcb3dP2yBtH",
        "outputId": "727b16ce-6e59-4ac9-e3c1-174ce4a91040"
      },
      "source": [
        "epochs = range(1, len(Train_accuracy)+1)\n",
        "plt.figure(figsize=(12,6))\n",
        "plt.plot(epochs, Train_accuracy, 'g', label='Training acc')\n",
        "plt.plot(epochs, val_accuracy, 'b', label='Validation acc')\n",
        "plt.title('Training and validation accuracy')\n",
        "plt.xlabel('Epochs')\n",
        "plt.ylabel('accuracy')\n",
        "plt.legend()"
      ],
      "execution_count": 29,
      "outputs": [
        {
          "output_type": "execute_result",
          "data": {
            "text/plain": [
              "<matplotlib.legend.Legend at 0x7ffabeb3d110>"
            ]
          },
          "metadata": {},
          "execution_count": 29
        },
        {
          "output_type": "display_data",
          "data": {
            "image/png": "[encoded data removed]",
            "text/plain": [
              "<Figure size 864x432 with 1 Axes>"
            ]
          },
          "metadata": {
            "needs_background": "light"
          }
        }
      ]
    },
    {
      "cell_type": "code",
      "metadata": {
        "colab": {
          "base_uri": "https://localhost:8080/"
        },
        "id": "geB1IK0cydOk",
        "outputId": "9b06796a-6740-4243-bb56-4bc3f115e801"
      },
      "source": [
        "val_recall = history.history['val_recall']\n",
        "avg_recall = np.mean(val_recall)\n",
        "avg_recall"
      ],
      "execution_count": 33,
      "outputs": [
        {
          "output_type": "execute_result",
          "data": {
            "text/plain": [
              "0.7201583602211692"
            ]
          },
          "metadata": {},
          "execution_count": 33
        }
      ]
    },
    {
      "cell_type": "code",
      "metadata": {
        "colab": {
          "base_uri": "https://localhost:8080/"
        },
        "id": "yl-YmJtTyvNg",
        "outputId": "a84261bc-d2b7-4c8f-c343-22762977ffd6"
      },
      "source": [
        "val_precision = history.history['val_precision']\n",
        "avg_precision = np.mean(val_precision)\n",
        "avg_precision"
      ],
      "execution_count": 32,
      "outputs": [
        {
          "output_type": "execute_result",
          "data": {
            "text/plain": [
              "0.710565371946855"
            ]
          },
          "metadata": {},
          "execution_count": 32
        }
      ]
    },
    {
      "cell_type": "code",
      "metadata": {
        "colab": {
          "base_uri": "https://localhost:8080/",
          "height": 421
        },
        "id": "dBXxux8Fy7zR",
        "outputId": "f8322fb3-ce7a-40ef-ac63-c7b186be5316"
      },
      "source": [
        "epochs = range(1, len(Train_accuracy)+1)\n",
        "plt.figure(figsize=(12,6))\n",
        "plt.plot(epochs, val_recall, 'g', label='Validation Recall')\n",
        "plt.plot(epochs, val_precision, 'b', label='Validation Prcision')\n",
        "plt.title('Validation recall and Validation Percision')\n",
        "plt.xlabel('Epochs')\n",
        "plt.ylabel('Recall and Precision')\n",
        "plt.legend()\n",
        "plt.ylim(0,1)"
      ],
      "execution_count": 34,
      "outputs": [
        {
          "output_type": "execute_result",
          "data": {
            "text/plain": [
              "(0.0, 1.0)"
            ]
          },
          "metadata": {},
          "execution_count": 34
        },
        {
          "output_type": "display_data",
          "data": {
            "image/png": "[encoded data removed]",
            "text/plain": [
              "<Figure size 864x432 with 1 Axes>"
            ]
          },
          "metadata": {
            "needs_background": "light"
          }
        }
      ]
    },
    {
      "cell_type": "code",
      "metadata": {
        "colab": {
          "base_uri": "https://localhost:8080/"
        },
        "id": "EKn7MMmmzCHR",
        "outputId": "dd6dbf09-4d4c-43ae-ec87-cfd105c22d35"
      },
      "source": [
        "Macro_F1score = (2*avg_precision*avg_recall)/ (avg_precision + avg_recall)\n",
        "Macro_F1score"
      ],
      "execution_count": 35,
      "outputs": [
        {
          "output_type": "execute_result",
          "data": {
            "text/plain": [
              "0.7153297056389304"
            ]
          },
          "metadata": {},
          "execution_count": 35
        }
      ]
    },
    {
      "cell_type": "code",
      "metadata": {
        "id": "z2NFWqaCzHkJ"
      },
      "source": [
        ""
      ],
      "execution_count": null,
      "outputs": []
    }
  ]
}